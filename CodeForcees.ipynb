{
  "nbformat": 4,
  "nbformat_minor": 0,
  "metadata": {
    "colab": {
      "provenance": [],
      "authorship_tag": "ABX9TyOiBMs9DvG1byNVRpkATeIj",
      "include_colab_link": true
    },
    "kernelspec": {
      "name": "python3",
      "display_name": "Python 3"
    },
    "language_info": {
      "name": "python"
    }
  },
  "cells": [
    {
      "cell_type": "markdown",
      "metadata": {
        "id": "view-in-github",
        "colab_type": "text"
      },
      "source": [
        "<a href=\"https://colab.research.google.com/github/MadTMan/CodeForces-Solutions/blob/main/CodeForcees.ipynb\" target=\"_parent\"><img src=\"https://colab.research.google.com/assets/colab-badge.svg\" alt=\"Open In Colab\"/></a>"
      ]
    },
    {
      "cell_type": "markdown",
      "source": [
        "\n",
        "#A.Elephant\n",
        "\n",
        "\n",
        "An elephant decided to visit his friend. It turned out that the elephant's house is located at point 0 and his friend's house is located at point x(x > 0) of the coordinate line. In one step the elephant can move 1, 2, 3, 4 or 5 positions forward. Determine, what is the minimum number of steps he need to make in order to get to his friend's house.\n",
        "\n",
        "Input\n",
        "The first line of the input contains an integer x (1 ≤ x ≤ 1 000 000) — The coordinate of the friend's house.\n",
        "\n",
        "Output\n",
        "Print the minimum number of steps that elephant needs to make to get from point 0 to point x.\n",
        "\n",
        "Examples\n",
        "Input\n",
        "5\n",
        "output\n",
        "1\n",
        "\n",
        "input\n",
        "12\n",
        "output\n",
        "3"
      ],
      "metadata": {
        "id": "H5Z5-s-ufnlQ"
      }
    },
    {
      "cell_type": "code",
      "execution_count": null,
      "metadata": {
        "colab": {
          "base_uri": "https://localhost:8080/"
        },
        "id": "FH6XpBCifiM-",
        "outputId": "71fc2dc0-f850-4672-b6d6-e3dbb953e0dd"
      },
      "outputs": [
        {
          "output_type": "stream",
          "name": "stdout",
          "text": [
            "5\n",
            "1\n"
          ]
        }
      ],
      "source": [
        "distance = int(input())\n",
        "\n",
        "quo = int(distance/5)\n",
        "rem = int(distance%5)\n",
        "\n",
        "if rem == 0:\n",
        "  print(quo)\n",
        "else:\n",
        "  print(quo+1)\n",
        "\n",
        "\n"
      ]
    },
    {
      "cell_type": "markdown",
      "source": [
        "#A. Yet Another Two Integers Problem\n",
        "\n",
        "\n",
        "You are given two integers a and b.\n",
        "\n",
        "In one move, you can choose some integer k from 1 to 10 and add it to a or subtract it from a. In other words, you choose an integer k∈[1;10] and perform a:=a+k or a:=a−k. You may use different values of k in different moves.\n",
        "\n",
        "Your task is to find the minimum number of moves required to obtain b from a.\n",
        "\n",
        "You have to answer t independent test cases.\n",
        "\n",
        "Input\n",
        "The first line of the input contains one integer t (1≤t≤2⋅104) — the number of test cases. Then t test cases follow.\n",
        "\n",
        "The only line of the test case contains two integers a and b (1≤a,b≤109).\n",
        "\n",
        "Output\n",
        "For each test case, print the answer: the minimum number of moves required to obtain b from a."
      ],
      "metadata": {
        "id": "silMI2hKkwDx"
      }
    },
    {
      "cell_type": "code",
      "source": [
        "test = int(input())\n",
        "\n",
        "\n",
        "for i in range(test):\n",
        "  \n",
        "  a,b = input().split()\n",
        "  a = int(a)\n",
        "  b = int(b)\n",
        "  diff = a - b\n",
        "\n",
        "\n",
        "  if a>b:\n",
        "    quo = int(diff/10)\n",
        "    #100500 9000print(diff)\n",
        "    if diff%10 == 0:\n",
        "      print(quo)\n",
        "    else:\n",
        "      print(quo+1)\n",
        "  else:\n",
        "    quo = int((diff*-1)/10)\n",
        "    if diff%10 == 0:\n",
        "     print(quo)\n",
        "    else:\n",
        "      print(quo+1)\n",
        "  "
      ],
      "metadata": {
        "colab": {
          "base_uri": "https://localhost:8080/"
        },
        "id": "pr5vsd66kyBv",
        "outputId": "17438c43-7a99-4349-da55-9350ab50babc"
      },
      "execution_count": null,
      "outputs": [
        {
          "output_type": "stream",
          "name": "stdout",
          "text": [
            "6\n",
            "5 5\n",
            "13 42\n",
            "18 4\n",
            "1337 420\n",
            "123456789 1000000000\n",
            "100500 9000\n",
            "9150\n",
            "9150\n",
            "9150\n",
            "9150\n",
            "9150\n",
            "9150\n"
          ]
        }
      ]
    },
    {
      "cell_type": "markdown",
      "source": [
        "#A. Triangular numbers\n",
        "\n",
        "A triangular number is the number of dots in an equilateral triangle uniformly filled with dots. For example, three dots can be arranged in a triangle; thus three is a triangular number. The n-th triangular number is the number of dots in a triangle with n dots on a side. . You can learn more about these numbers from Wikipedia (http://en.wikipedia.org/wiki/Triangular_number).\n",
        "\n",
        "Your task is to find out if a given integer is a triangular number.\n",
        "\n",
        "Input\n",
        "The first line contains the single number n (1 ≤ n ≤ 500) — the given integer.\n",
        "\n",
        "Output\n",
        "If the given integer is a triangular number output YES, otherwise output NO."
      ],
      "metadata": {
        "id": "ZsgfWQ_P7BkX"
      }
    },
    {
      "cell_type": "code",
      "source": [
        "input_num = input()\n",
        "input_num = int(input_num)\n",
        "#form = (num(num+1))/2\n",
        "t_num =[]\n",
        "count = 1\n",
        "\n",
        "for output in range(500):\n",
        "  #print(count)\n",
        "  t_num.append(int((count*(count+1))/2))\n",
        "  count += 1\n",
        "\n",
        "#print(t_num)\n",
        "for check in t_num:\n",
        "  if input_num in t_num:\n",
        "    print(\"YES\")\n",
        "    break\n",
        "  else:\n",
        "    print(\"NO\")\n",
        "    break"
      ],
      "metadata": {
        "colab": {
          "base_uri": "https://localhost:8080/"
        },
        "id": "jHP54FKr7C_L",
        "outputId": "6e9f0362-8042-4ac1-ba4e-8f65192b9d4f"
      },
      "execution_count": null,
      "outputs": [
        {
          "output_type": "stream",
          "name": "stdout",
          "text": [
            "1\n",
            "YES\n"
          ]
        }
      ]
    },
    {
      "cell_type": "markdown",
      "source": [
        "#UNSOLVED\n",
        "\n",
        "#A. Wet Shark and Odd and Even\n",
        "\n",
        "Today, Wet Shark is given n integers. Using any of these integers no more than once, Wet Shark wants to get maximum possible even (divisible by 2) sum. Please, calculate this value for Wet Shark.\n",
        "\n",
        "Note, that if Wet Shark uses no integers from the n integers, the sum is an even integer 0.\n",
        "\n",
        "Input\n",
        "The first line of the input contains one integer, n (1 ≤ n ≤ 100 000). The next line contains n space separated integers given to Wet Shark. Each of these integers is in range from 1 to 109, inclusive.\n",
        "\n",
        "Output\n",
        "Print the maximum possible even sum that can be obtained if we use some of the given integers"
      ],
      "metadata": {
        "id": "hRp16cIRAsnm"
      }
    },
    {
      "cell_type": "code",
      "source": [
        "#UNSOLVED\n",
        "\n",
        "arr = []\n",
        "n = input()\n",
        "n = int(n)\n",
        "summ = int(0)\n",
        "arr_sum = 0\n",
        "\n",
        "# for i in range(n):\n",
        "#arr.append(input().split())\n",
        "\n",
        "arr = list(map(int, input().strip().split()))\n",
        "# arr = [int(i) for i in arr]\n",
        "\n",
        "  \n",
        "arr.sort(reverse = True)\n",
        "for i in arr:\n",
        "  arr_sum = arr_sum + i\n",
        "\n",
        "\n",
        "# print(arr)\n",
        "# print(arr_sum)\n",
        "\n",
        "# for i in range(0, len(arr)):    \n",
        "#   for j in range(i+1, len(arr)):    \n",
        "#     if(arr[i] < arr[j]):    \n",
        "#       temp = arr[i];    \n",
        "#       arr[i] = arr[j];    \n",
        "#       arr[j] = temp; \n",
        "\n",
        "for i in range(len(arr)):\n",
        "  if len(arr) < 3:\n",
        "    if len(arr) == 1:\n",
        "      if arr_sum % 2 ==0:\n",
        "        print(arr_sum)\n",
        "        break\n",
        "      else:\n",
        "        print(0)\n",
        "        break\n",
        "      \n",
        "    else:\n",
        "      if arr_sum % 2 != 0:\n",
        "        if arr[0]%2 == 0:\n",
        "          print(arr[0])\n",
        "          break\n",
        "        else:\n",
        "          print(arr[1])\n",
        "          break\n",
        "      else:\n",
        "        print(arr_sum)\n",
        "        break\n",
        "   \n",
        "  elif arr_sum % 2 == 0:\n",
        "    print(arr_sum)\n",
        "    break\n",
        "# ----------------------------------------------    \n",
        "  elif (i < len(arr)-2):\n",
        "    summ = summ + arr[i]\n",
        "  else:\n",
        "    if((summ + arr[i]) % 2 == 0):\n",
        "      summ = summ + arr[i]\n",
        "      print(summ)\n",
        "      break\n",
        "    elif ((summ + arr[i+1]) % 2) == 0:\n",
        "      summ = summ + arr[i+1]\n",
        "      print(summ)\n",
        "      break\n",
        "    else:\n",
        "      print(summ)\n",
        "      break\n",
        "\n",
        "#use nested loop\n",
        "\n",
        "for i in range(len(arr))):\n",
        "  for j in range (i):\n",
        "    \n",
        "\n",
        "   \n"
      ],
      "metadata": {
        "id": "DHgZmKt8FpNc",
        "colab": {
          "base_uri": "https://localhost:8080/"
        },
        "outputId": "542a722c-2a38-4c26-a7a8-65c18df69184"
      },
      "execution_count": null,
      "outputs": [
        {
          "output_type": "stream",
          "name": "stdout",
          "text": [
            "3\n",
            "1 2 3\n",
            "6\n"
          ]
        }
      ]
    },
    {
      "cell_type": "markdown",
      "source": [
        "#UNSOLVED\n",
        "#A. Love Triangle\n",
        "\n",
        "As you could know there are no male planes nor female planes. However, each plane on Earth likes some other plane. There are n planes on Earth, numbered from 1 to n, and the plane with number i likes the plane with number fi, where 1 ≤ fi ≤ n and fi ≠ i.\n",
        "\n",
        "We call a love triangle a situation in which plane A likes plane B, plane B likes plane C and plane C likes plane A. Find out if there is any love triangle on Earth.\n",
        "\n",
        "Input\n",
        "The first line contains a single integer n (2 ≤ n ≤ 5000) — the number of planes.\n",
        "\n",
        "The second line contains n integers f1, f2, ..., fn (1 ≤ fi ≤ n, fi ≠ i), meaning that the i-th plane likes the fi-th.\n",
        "\n",
        "Output\n",
        "Output «YES» if there is a love triangle consisting of planes on Earth. Otherwise, output «NO».\n",
        "\n",
        "You can output any letter in lower case or in upper case."
      ],
      "metadata": {
        "id": "ySgH0vgFyGCg"
      }
    },
    {
      "cell_type": "code",
      "source": [
        "#UNSOLVED\n",
        "\n",
        "n = input()\n",
        "n = int(n)\n",
        "arr = []\n",
        "\n",
        "arr = list(map(int, input().strip().split()))\n",
        "\n",
        "num1 = arr[0]\n",
        "num2 = arr[num1-1]\n",
        "num3 = arr[num2-1]\n",
        "# if num1 != num2 and num2 != num3 and num3 != num1:\n",
        "if arr[num3-1] == arr[0]:\n",
        "  print ('YES')\n",
        "else:\n",
        "  print('NO')\n",
        "  \n",
        "    \n",
        "\n"
      ],
      "metadata": {
        "id": "EYmkW0VrPK8k",
        "colab": {
          "base_uri": "https://localhost:8080/"
        },
        "outputId": "f703c792-22e8-4841-caca-bdfc7be4af38"
      },
      "execution_count": null,
      "outputs": [
        {
          "output_type": "stream",
          "name": "stdout",
          "text": [
            "5\n",
            "5 5 5 5 1\n",
            "NO\n"
          ]
        }
      ]
    },
    {
      "cell_type": "code",
      "source": [
        "# arr = []\n",
        "# arr = list(map(str, input().strip().split()))\n",
        "# print(arr)\n",
        "\n",
        "arr_num = []\n",
        "arr_num = list(map(int, input().strip().split()))\n",
        "print(arr_num)"
      ],
      "metadata": {
        "colab": {
          "base_uri": "https://localhost:8080/"
        },
        "id": "2KNO36lwyDVp",
        "outputId": "de7e7113-100e-449a-b0a2-e5d2d36d6b4f"
      },
      "execution_count": null,
      "outputs": [
        {
          "name": "stdout",
          "output_type": "stream",
          "text": [
            "5 4 3 2 1\n"
          ]
        }
      ]
    },
    {
      "cell_type": "markdown",
      "source": [
        "##A. Telephone Number\n",
        "A telephone number is a sequence of exactly 11 digits, where the first digit is 8. For example, the sequence 80011223388 is a telephone number, but the sequences 70011223388 and 80000011223388 are not.\n",
        "\n",
        "You are given a string s of length n, consisting of digits.\n",
        "\n",
        "In one operation you can delete any character from string s. For example, it is possible to obtain strings 112, 111 or 121 from string 1121.\n",
        "\n",
        "You need to determine whether there is such a sequence of operations (possibly empty), after which the string s becomes a telephone number.\n",
        "\n",
        "Input\n",
        "The first line contains one integer t (1≤t≤100) — the number of test cases.\n",
        "\n",
        "The first line of each test case contains one integer n (1≤n≤100) — the length of string s.\n",
        "\n",
        "The second line of each test case contains the string s (|s|=n) consisting of digits.\n",
        "\n",
        "Output\n",
        "For each test print one line.\n",
        "\n",
        "If there is a sequence of operations, after which s becomes a telephone number, print YES.\n",
        "\n",
        "Otherwise, print NO"
      ],
      "metadata": {
        "id": "apnize4kinOX"
      }
    },
    {
      "cell_type": "code",
      "source": [
        "t = input()\n",
        "t= int(t)\n",
        "num_arr = []\n",
        "tel_arr = []\n",
        "tele = ''\n",
        "\n",
        "for i in range(t):\n",
        "  num_arr.append(int(input())\n",
        "  \n",
        "max_len = len(t)\n",
        "\n",
        "while i < max_len:\n",
        "  tel = input()\n",
        "  tel_arr.append(tel)\n",
        "  #print(i)\n",
        "\n",
        "for i in range(len(num_arr)):\n",
        "  if num_arr[i] < 11:\n",
        "      print(\"NO\")\n",
        "\n",
        "  elif num_arr[i] == 11:\n",
        "    tele = tel_arr[i]\n",
        "    if tele[0] == '8':\n",
        "      print(\"YES\")\n",
        "    else:\n",
        "      print(\"NO\")\n",
        "    \n",
        "  # else:\n",
        "  #   oper = string_num - 11\n",
        "    \n",
        "\n",
        "  "
      ],
      "metadata": {
        "colab": {
          "base_uri": "https://localhost:8080/",
          "height": 130
        },
        "id": "v12fEKzNiu8K",
        "outputId": "514dfa41-b459-40d6-d46d-7950c0135fa7"
      },
      "execution_count": null,
      "outputs": [
        {
          "output_type": "error",
          "ename": "SyntaxError",
          "evalue": "ignored",
          "traceback": [
            "\u001b[0;36m  File \u001b[0;32m\"<ipython-input-16-fdf48fc63b22>\"\u001b[0;36m, line \u001b[0;32m10\u001b[0m\n\u001b[0;31m    max_len = len(t)\u001b[0m\n\u001b[0m    ^\u001b[0m\n\u001b[0;31mSyntaxError\u001b[0m\u001b[0;31m:\u001b[0m invalid syntax\n"
          ]
        }
      ]
    },
    {
      "cell_type": "markdown",
      "source": [
        "##A. Lucky Division\n",
        "\n",
        "\n",
        "Petya loves lucky numbers. Everybody knows that lucky numbers are positive integers whose decimal representation contains only the lucky digits 4 and 7. For example, numbers 47, 744, 4 are lucky and 5, 17, 467 are not.\n",
        "\n",
        "Petya calls a number almost lucky if it could be evenly divided by some lucky number. Help him find out if the given number n is almost lucky.\n",
        "\n",
        "Input\n",
        "\n",
        "The single line contains an integer n (1 ≤ n ≤ 1000) — the number that needs to be checked.\n",
        "\n",
        "Output\n",
        "\n",
        "In the only line print \"YES\" (without the quotes), if number n is almost lucky. Otherwise, print \"NO\" (without the quotes)."
      ],
      "metadata": {
        "id": "6RLzfNAbPz-q"
      }
    },
    {
      "cell_type": "code",
      "source": [
        "input = int(input())\n"
      ],
      "metadata": {
        "id": "eHucJNi2PzkL"
      },
      "execution_count": null,
      "outputs": []
    },
    {
      "cell_type": "markdown",
      "source": [
        "##A. I Wanna Be the Guy\n",
        "\n",
        "There is a game called \"I Wanna Be the Guy\", consisting of n levels. Little X and his friend Little Y are addicted to the game. Each of them wants to pass the whole game.\n",
        "\n",
        "Little X can pass only p levels of the game. And Little Y can pass only q levels of the game. You are given the indices of levels Little X can pass and the indices of levels Little Y can pass. Will Little X and Little Y pass the whole game, if they cooperate each other?\n",
        "\n",
        "Input\n",
        "\n",
        "The first line contains a single integer n (1 ≤  n ≤ 100).\n",
        "\n",
        "The next line contains an integer p (0 ≤ p ≤ n) at first, then follows p distinct integers a1, a2, ..., ap (1 ≤ ai ≤ n). These integers denote the indices of levels Little X can pass. The next line contains the levels Little Y can pass in the same format. It's assumed that levels are numbered from 1 to n.\n",
        "\n",
        "Output\n",
        "\n",
        "If they can pass all the levels, print \"I become the guy.\". If it's impossible, print \"Oh, my keyboard!\" (without the quotes)."
      ],
      "metadata": {
        "id": "Bx_5t4cKWlLX"
      }
    },
    {
      "cell_type": "code",
      "source": [
        "p = []\n",
        "q = []\n",
        "dstnt = []\n",
        "\n",
        "level = input()\n",
        "level = int(level)\n",
        "\n",
        "\n",
        "p = list(map(int, input().strip().split()))\n",
        "q = list(map(int, input().strip().split()))\n",
        "\n",
        "lenp = len(p)\n",
        "lenq = len(q)\n",
        "\n",
        "\n",
        "print(lenp, lenq)\n",
        "\n",
        "def distinct(arr1, arr2):\n",
        "  # flag = 0\n",
        "  # print(flag)\n",
        "  for i in range(1,lenp-1):\n",
        "    flag = 0\n",
        "    # print(flag)    \n",
        "    for j in range(1,i):\n",
        "      if(p[i] == p[j]):\n",
        "        flag = 1\n",
        "        print(flag)\n",
        "        break\n",
        "    \n",
        "    if flag == 0:\n",
        "      print(flag)\n",
        "      dstnt.append(p[i])\n",
        "\n",
        "  for i in range(1,lenq-1):\n",
        "    flag = 0\n",
        "    \n",
        "    for j in range(0,i):\n",
        "      if(q[i] == dstnt[j]):\n",
        "        flag = 1\n",
        "        break\n",
        "    \n",
        "    if flag == 0:\n",
        "      dstnt.append(q[i])\n",
        "\n",
        "distinct(p,q)\n",
        "print(dstnt)\n",
        "\n",
        "# print(level)\n",
        "# print(p)\n",
        "# print(q)"
      ],
      "metadata": {
        "colab": {
          "base_uri": "https://localhost:8080/"
        },
        "id": "1FMGRSKfWl-I",
        "outputId": "cb010fb0-4c17-436c-93d3-72f8e7eab721"
      },
      "execution_count": null,
      "outputs": [
        {
          "output_type": "stream",
          "name": "stdout",
          "text": [
            "4 \n",
            "3 1 2 3\n",
            "2 2 4\n",
            "4 3\n",
            "0\n",
            "0\n",
            "[1, 2, 2]\n"
          ]
        }
      ]
    },
    {
      "cell_type": "markdown",
      "source": [
        "##A. Required Remainder\n",
        "You are given three integers x,y\n",
        " and n\n",
        ". Your task is to find the maximum integer k\n",
        " such that 0≤k≤n\n",
        " that kmodx=y\n",
        ", where mod\n",
        " is modulo operation. Many programming languages use percent operator % to implement it.\n",
        "\n",
        "In other words, with given x,y\n",
        " and n\n",
        " you need to find the maximum possible integer from 0\n",
        " to n\n",
        " that has the remainder y\n",
        " modulo x\n",
        ".\n",
        "\n",
        "You have to answer t\n",
        " independent test cases. It is guaranteed that such k\n",
        " exists for each test case.\n",
        "\n",
        "Input\n",
        "The first line of the input contains one integer t\n",
        " (1≤t≤5⋅104\n",
        ") — the number of test cases. The next t\n",
        " lines contain test cases.\n",
        "\n",
        "The only line of the test case contains three integers x,y\n",
        " and n\n",
        " (2≤x≤109; 0≤y<x; y≤n≤109\n",
        ").\n",
        "\n",
        "It can be shown that such k\n",
        " always exists under the given constraints.\n",
        "\n",
        "Output\n",
        "For each test case, print the answer — maximum non-negative integer k\n",
        " such that 0≤k≤n\n",
        " and kmodx=y\n",
        ". It is guaranteed that the answer always exists.\n",
        "\n",
        "![image.png](data:image/png;base64,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)"
      ],
      "metadata": {
        "id": "FQnWk2x7YhaV"
      }
    },
    {
      "cell_type": "code",
      "source": [
        "tests = input()\n",
        "tests = int(tests)\n",
        "results = []\n",
        "\n",
        "for i in range(tests):\n",
        "  x, y, n = list(map(int, input().strip().split()))\n",
        "  value = n/x\n",
        "  int(value)\n",
        "  k = x * value + y\n",
        "  if (k%x == y):\n",
        "    break\n",
        "  else:\n",
        "    value = value - 1\n",
        "    value = int(value)\n",
        "    k = x * value + y\n",
        "  \n",
        "  print(value)\n",
        "  print(k)\n",
        "\n",
        "#print(x, y, n)"
      ],
      "metadata": {
        "colab": {
          "base_uri": "https://localhost:8080/"
        },
        "id": "nVeGqf-QYS_g",
        "outputId": "d84c2cef-7085-48bb-8ddc-79ee2f56e63f"
      },
      "execution_count": null,
      "outputs": [
        {
          "output_type": "stream",
          "name": "stdout",
          "text": [
            "1\n",
            "10 5 15\n",
            "0\n",
            "5\n"
          ]
        }
      ]
    },
    {
      "cell_type": "markdown",
      "source": [
        "##A. Do Not Be Distracted!\n",
        "\n",
        "The teacher asked Polycarp to solve tasks in the following way: if Polycarp began to solve some task, then he must solve it to the end, without being distracted by another task. After switching to another task, Polycarp cannot return to the previous task.\n",
        "\n",
        "Polycarp can only solve one task during the day. Every day he wrote down what task he solved. Now the teacher wants to know if Polycarp followed his advice.\n",
        "\n",
        "For example, if Polycarp solved tasks in the following order: \"DDBBCCCBBEZ\", then the teacher will see that on the third day Polycarp began to solve the task 'B', then on the fifth day he got distracted and began to solve the task 'C', on the eighth day Polycarp returned to the task 'B'. Other examples of when the teacher is suspicious: \"BAB\", \"AABBCCDDEEBZZ\" and \"AAAAZAAAAA\".\n",
        "\n",
        "If Polycarp solved the tasks as follows: \"FFGZZZY\", then the teacher cannot have any suspicions. Please note that Polycarp is not obligated to solve all tasks. Other examples of when the teacher doesn't have any suspicious: \"BA\", \"AFFFCC\" and \"YYYYY\".\n",
        "\n",
        "Help Polycarp find out if his teacher might be suspicious.\n",
        "\n",
        "Input\n",
        "The first line contains an integer t\n",
        " (1≤t≤1000\n",
        "). Then t\n",
        " test cases follow.\n",
        "\n",
        "The first line of each test case contains one integer n\n",
        " (1≤n≤50\n",
        ") — the number of days during which Polycarp solved tasks.\n",
        "\n",
        "The second line contains a string of length n\n",
        ", consisting of uppercase Latin letters, which is the order in which Polycarp solved the tasks.\n",
        "\n",
        "Output\n",
        "For each test case output:\n",
        "\n",
        "\"YES\", if the teacher cannot be suspicious;\n",
        "\"NO\", otherwise.\n",
        "You may print every letter in any case you want (so, for example, the strings yEs, yes, Yes and YES are all recognized as positive answer)."
      ],
      "metadata": {
        "id": "Rdnukt1i4oTP"
      }
    },
    {
      "cell_type": "code",
      "source": [
        "t= input()\n",
        "t=int(t)\n",
        "count = 0\n",
        "\n",
        "for i in range(t):\n",
        "  count = 0\n",
        "  a,b,c,d = list(map(int, input().strip().split()))\n",
        "  if a<b :\n",
        "    count= count +1\n",
        "  if a<c:\n",
        "    count+=1\n",
        "  if a<d:\n",
        "    count+=1\n",
        "  print(count)"
      ],
      "metadata": {
        "id": "PDRyrlTL4jcx"
      },
      "execution_count": null,
      "outputs": []
    }
  ]
}