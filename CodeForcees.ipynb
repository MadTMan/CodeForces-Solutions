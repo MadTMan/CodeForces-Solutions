{
  "nbformat": 4,
  "nbformat_minor": 0,
  "metadata": {
    "colab": {
      "provenance": [],
      "authorship_tag": "ABX9TyO/WmCKdA19egGyre5iP2lL",
      "include_colab_link": true
    },
    "kernelspec": {
      "name": "python3",
      "display_name": "Python 3"
    },
    "language_info": {
      "name": "python"
    }
  },
  "cells": [
    {
      "cell_type": "markdown",
      "metadata": {
        "id": "view-in-github",
        "colab_type": "text"
      },
      "source": [
        "<a href=\"https://colab.research.google.com/github/MadTMan/CodeForces-Solutions/blob/main/CodeForcees.ipynb\" target=\"_parent\"><img src=\"https://colab.research.google.com/assets/colab-badge.svg\" alt=\"Open In Colab\"/></a>"
      ]
    },
    {
      "cell_type": "markdown",
      "source": [
        "\n",
        "#A.Elephant\n",
        "\n",
        "\n",
        "An elephant decided to visit his friend. It turned out that the elephant's house is located at point 0 and his friend's house is located at point x(x > 0) of the coordinate line. In one step the elephant can move 1, 2, 3, 4 or 5 positions forward. Determine, what is the minimum number of steps he need to make in order to get to his friend's house.\n",
        "\n",
        "Input\n",
        "The first line of the input contains an integer x (1 ≤ x ≤ 1 000 000) — The coordinate of the friend's house.\n",
        "\n",
        "Output\n",
        "Print the minimum number of steps that elephant needs to make to get from point 0 to point x.\n",
        "\n",
        "Examples\n",
        "Input\n",
        "5\n",
        "output\n",
        "1\n",
        "\n",
        "input\n",
        "12\n",
        "output\n",
        "3"
      ],
      "metadata": {
        "id": "H5Z5-s-ufnlQ"
      }
    },
    {
      "cell_type": "code",
      "execution_count": null,
      "metadata": {
        "colab": {
          "base_uri": "https://localhost:8080/"
        },
        "id": "FH6XpBCifiM-",
        "outputId": "71fc2dc0-f850-4672-b6d6-e3dbb953e0dd"
      },
      "outputs": [
        {
          "output_type": "stream",
          "name": "stdout",
          "text": [
            "5\n",
            "1\n"
          ]
        }
      ],
      "source": [
        "distance = int(input())\n",
        "\n",
        "quo = int(distance/5)\n",
        "rem = int(distance%5)\n",
        "\n",
        "if rem == 0:\n",
        "  print(quo)\n",
        "else:\n",
        "  print(quo+1)\n",
        "\n",
        "\n"
      ]
    },
    {
      "cell_type": "markdown",
      "source": [
        "#A. Yet Another Two Integers Problem\n",
        "\n",
        "\n",
        "You are given two integers a and b.\n",
        "\n",
        "In one move, you can choose some integer k from 1 to 10 and add it to a or subtract it from a. In other words, you choose an integer k∈[1;10] and perform a:=a+k or a:=a−k. You may use different values of k in different moves.\n",
        "\n",
        "Your task is to find the minimum number of moves required to obtain b from a.\n",
        "\n",
        "You have to answer t independent test cases.\n",
        "\n",
        "Input\n",
        "The first line of the input contains one integer t (1≤t≤2⋅104) — the number of test cases. Then t test cases follow.\n",
        "\n",
        "The only line of the test case contains two integers a and b (1≤a,b≤109).\n",
        "\n",
        "Output\n",
        "For each test case, print the answer: the minimum number of moves required to obtain b from a."
      ],
      "metadata": {
        "id": "silMI2hKkwDx"
      }
    },
    {
      "cell_type": "code",
      "source": [
        "test = int(input())\n",
        "\n",
        "\n",
        "for i in range(test):\n",
        "  \n",
        "  a,b = input().split()\n",
        "  a = int(a)\n",
        "  b = int(b)\n",
        "  diff = a - b\n",
        "\n",
        "\n",
        "  if a>b:\n",
        "    quo = int(diff/10)\n",
        "    #100500 9000print(diff)\n",
        "    if diff%10 == 0:\n",
        "      print(quo)\n",
        "    else:\n",
        "      print(quo+1)\n",
        "  else:\n",
        "    quo = int((diff*-1)/10)\n",
        "    if diff%10 == 0:\n",
        "     print(quo)\n",
        "    else:\n",
        "      print(quo+1)\n",
        "  "
      ],
      "metadata": {
        "colab": {
          "base_uri": "https://localhost:8080/"
        },
        "id": "pr5vsd66kyBv",
        "outputId": "17438c43-7a99-4349-da55-9350ab50babc"
      },
      "execution_count": null,
      "outputs": [
        {
          "output_type": "stream",
          "name": "stdout",
          "text": [
            "6\n",
            "5 5\n",
            "13 42\n",
            "18 4\n",
            "1337 420\n",
            "123456789 1000000000\n",
            "100500 9000\n",
            "9150\n",
            "9150\n",
            "9150\n",
            "9150\n",
            "9150\n",
            "9150\n"
          ]
        }
      ]
    },
    {
      "cell_type": "markdown",
      "source": [
        "#A. Triangular numbers\n",
        "\n",
        "A triangular number is the number of dots in an equilateral triangle uniformly filled with dots. For example, three dots can be arranged in a triangle; thus three is a triangular number. The n-th triangular number is the number of dots in a triangle with n dots on a side. . You can learn more about these numbers from Wikipedia (http://en.wikipedia.org/wiki/Triangular_number).\n",
        "\n",
        "Your task is to find out if a given integer is a triangular number.\n",
        "\n",
        "Input\n",
        "The first line contains the single number n (1 ≤ n ≤ 500) — the given integer.\n",
        "\n",
        "Output\n",
        "If the given integer is a triangular number output YES, otherwise output NO."
      ],
      "metadata": {
        "id": "ZsgfWQ_P7BkX"
      }
    },
    {
      "cell_type": "code",
      "source": [
        "input_num = input()\n",
        "input_num = int(input_num)\n",
        "#form = (num(num+1))/2\n",
        "t_num =[]\n",
        "count = 1\n",
        "\n",
        "for output in range(500):\n",
        "  #print(count)\n",
        "  t_num.append(int((count*(count+1))/2))\n",
        "  count += 1\n",
        "\n",
        "#print(t_num)\n",
        "for check in t_num:\n",
        "  if input_num in t_num:\n",
        "    print(\"YES\")\n",
        "    break\n",
        "  else:\n",
        "    print(\"NO\")\n",
        "    break"
      ],
      "metadata": {
        "colab": {
          "base_uri": "https://localhost:8080/"
        },
        "id": "jHP54FKr7C_L",
        "outputId": "6e9f0362-8042-4ac1-ba4e-8f65192b9d4f"
      },
      "execution_count": null,
      "outputs": [
        {
          "output_type": "stream",
          "name": "stdout",
          "text": [
            "1\n",
            "YES\n"
          ]
        }
      ]
    },
    {
      "cell_type": "markdown",
      "source": [
        "#UNSOLVED\n",
        "\n",
        "#A. Wet Shark and Odd and Even\n",
        "\n",
        "Today, Wet Shark is given n integers. Using any of these integers no more than once, Wet Shark wants to get maximum possible even (divisible by 2) sum. Please, calculate this value for Wet Shark.\n",
        "\n",
        "Note, that if Wet Shark uses no integers from the n integers, the sum is an even integer 0.\n",
        "\n",
        "Input\n",
        "The first line of the input contains one integer, n (1 ≤ n ≤ 100 000). The next line contains n space separated integers given to Wet Shark. Each of these integers is in range from 1 to 109, inclusive.\n",
        "\n",
        "Output\n",
        "Print the maximum possible even sum that can be obtained if we use some of the given integers"
      ],
      "metadata": {
        "id": "hRp16cIRAsnm"
      }
    },
    {
      "cell_type": "code",
      "source": [
        "#UNSOLVED\n",
        "\n",
        "arr = []\n",
        "n = input()\n",
        "n = int(n)\n",
        "summ = int(0)\n",
        "arr_sum = 0\n",
        "\n",
        "# for i in range(n):\n",
        "#arr.append(input().split())\n",
        "\n",
        "arr = list(map(int, input().strip().split()))\n",
        "# arr = [int(i) for i in arr]\n",
        "\n",
        "  \n",
        "arr.sort(reverse = True)\n",
        "for i in arr:\n",
        "  arr_sum = arr_sum + i\n",
        "\n",
        "\n",
        "# print(arr)\n",
        "# print(arr_sum)\n",
        "\n",
        "# for i in range(0, len(arr)):    \n",
        "#   for j in range(i+1, len(arr)):    \n",
        "#     if(arr[i] < arr[j]):    \n",
        "#       temp = arr[i];    \n",
        "#       arr[i] = arr[j];    \n",
        "#       arr[j] = temp; \n",
        "\n",
        "for i in range(len(arr)):\n",
        "  if len(arr) < 3:\n",
        "    if len(arr) == 1:\n",
        "      if arr_sum % 2 ==0:\n",
        "        print(arr_sum)\n",
        "        break\n",
        "      else:\n",
        "        print(0)\n",
        "        break\n",
        "      \n",
        "    else:\n",
        "      if arr_sum % 2 != 0:\n",
        "        if arr[0]%2 == 0:\n",
        "          print(arr[0])\n",
        "          break\n",
        "        else:\n",
        "          print(arr[1])\n",
        "          break\n",
        "      else:\n",
        "        print(arr_sum)\n",
        "        break\n",
        "   \n",
        "  elif arr_sum % 2 == 0:\n",
        "    print(arr_sum)\n",
        "    break\n",
        "# ----------------------------------------------    \n",
        "  elif (i < len(arr)-2):\n",
        "    summ = summ + arr[i]\n",
        "  else:\n",
        "    if((summ + arr[i]) % 2 == 0):\n",
        "      summ = summ + arr[i]\n",
        "      print(summ)\n",
        "      break\n",
        "    elif ((summ + arr[i+1]) % 2) == 0:\n",
        "      summ = summ + arr[i+1]\n",
        "      print(summ)\n",
        "      break\n",
        "    else:\n",
        "      print(summ)\n",
        "      break\n",
        "\n",
        "#use nested loop\n",
        "\n",
        "for i in range(len(arr))):\n",
        "  for j in range (i):\n",
        "    \n",
        "\n",
        "   \n"
      ],
      "metadata": {
        "id": "DHgZmKt8FpNc",
        "colab": {
          "base_uri": "https://localhost:8080/"
        },
        "outputId": "542a722c-2a38-4c26-a7a8-65c18df69184"
      },
      "execution_count": null,
      "outputs": [
        {
          "output_type": "stream",
          "name": "stdout",
          "text": [
            "3\n",
            "1 2 3\n",
            "6\n"
          ]
        }
      ]
    },
    {
      "cell_type": "markdown",
      "source": [
        "#UNSOLVED\n",
        "#A. Love Triangle\n",
        "\n",
        "As you could know there are no male planes nor female planes. However, each plane on Earth likes some other plane. There are n planes on Earth, numbered from 1 to n, and the plane with number i likes the plane with number fi, where 1 ≤ fi ≤ n and fi ≠ i.\n",
        "\n",
        "We call a love triangle a situation in which plane A likes plane B, plane B likes plane C and plane C likes plane A. Find out if there is any love triangle on Earth.\n",
        "\n",
        "Input\n",
        "The first line contains a single integer n (2 ≤ n ≤ 5000) — the number of planes.\n",
        "\n",
        "The second line contains n integers f1, f2, ..., fn (1 ≤ fi ≤ n, fi ≠ i), meaning that the i-th plane likes the fi-th.\n",
        "\n",
        "Output\n",
        "Output «YES» if there is a love triangle consisting of planes on Earth. Otherwise, output «NO».\n",
        "\n",
        "You can output any letter in lower case or in upper case."
      ],
      "metadata": {
        "id": "ySgH0vgFyGCg"
      }
    },
    {
      "cell_type": "code",
      "source": [
        "#UNSOLVED\n",
        "\n",
        "n = input()\n",
        "n = int(n)\n",
        "arr = []\n",
        "\n",
        "arr = list(map(int, input().strip().split()))\n",
        "\n",
        "num1 = arr[0]\n",
        "num2 = arr[num1-1]\n",
        "num3 = arr[num2-1]\n",
        "# if num1 != num2 and num2 != num3 and num3 != num1:\n",
        "if arr[num3-1] == arr[0]:\n",
        "  print ('YES')\n",
        "else:\n",
        "  print('NO')\n",
        "  \n",
        "    \n",
        "\n"
      ],
      "metadata": {
        "id": "EYmkW0VrPK8k",
        "colab": {
          "base_uri": "https://localhost:8080/"
        },
        "outputId": "f703c792-22e8-4841-caca-bdfc7be4af38"
      },
      "execution_count": null,
      "outputs": [
        {
          "output_type": "stream",
          "name": "stdout",
          "text": [
            "5\n",
            "5 5 5 5 1\n",
            "NO\n"
          ]
        }
      ]
    },
    {
      "cell_type": "code",
      "source": [
        "# arr = []\n",
        "# arr = list(map(str, input().strip().split()))\n",
        "# print(arr)\n",
        "\n",
        "arr_num = []\n",
        "arr_num = list(map(int, input().strip().split()))\n",
        "print(arr_num)"
      ],
      "metadata": {
        "colab": {
          "base_uri": "https://localhost:8080/"
        },
        "id": "2KNO36lwyDVp",
        "outputId": "de7e7113-100e-449a-b0a2-e5d2d36d6b4f"
      },
      "execution_count": null,
      "outputs": [
        {
          "name": "stdout",
          "output_type": "stream",
          "text": [
            "5 4 3 2 1\n"
          ]
        }
      ]
    },
    {
      "cell_type": "markdown",
      "source": [
        "##A. Telephone Number\n",
        "A telephone number is a sequence of exactly 11 digits, where the first digit is 8. For example, the sequence 80011223388 is a telephone number, but the sequences 70011223388 and 80000011223388 are not.\n",
        "\n",
        "You are given a string s of length n, consisting of digits.\n",
        "\n",
        "In one operation you can delete any character from string s. For example, it is possible to obtain strings 112, 111 or 121 from string 1121.\n",
        "\n",
        "You need to determine whether there is such a sequence of operations (possibly empty), after which the string s becomes a telephone number.\n",
        "\n",
        "Input\n",
        "The first line contains one integer t (1≤t≤100) — the number of test cases.\n",
        "\n",
        "The first line of each test case contains one integer n (1≤n≤100) — the length of string s.\n",
        "\n",
        "The second line of each test case contains the string s (|s|=n) consisting of digits.\n",
        "\n",
        "Output\n",
        "For each test print one line.\n",
        "\n",
        "If there is a sequence of operations, after which s becomes a telephone number, print YES.\n",
        "\n",
        "Otherwise, print NO"
      ],
      "metadata": {
        "id": "apnize4kinOX"
      }
    },
    {
      "cell_type": "code",
      "source": [
        "t = input()\n",
        "t= int(t)\n",
        "num_arr = []\n",
        "tel_arr = []\n",
        "tele = ''\n",
        "\n",
        "for i in range(t):\n",
        "  num_arr.append(int(input())\n",
        "  \n",
        "max_len = len(t)\n",
        "\n",
        "while i < max_len:\n",
        "  tel = input()\n",
        "  tel_arr.append(tel)\n",
        "  #print(i)\n",
        "\n",
        "for i in range(len(num_arr)):\n",
        "  if num_arr[i] < 11:\n",
        "      print(\"NO\")\n",
        "\n",
        "  elif num_arr[i] == 11:\n",
        "    tele = tel_arr[i]\n",
        "    if tele[0] == '8':\n",
        "      print(\"YES\")\n",
        "    else:\n",
        "      print(\"NO\")\n",
        "    \n",
        "  # else:\n",
        "  #   oper = string_num - 11\n",
        "    \n",
        "\n",
        "  "
      ],
      "metadata": {
        "colab": {
          "base_uri": "https://localhost:8080/",
          "height": 130
        },
        "id": "v12fEKzNiu8K",
        "outputId": "514dfa41-b459-40d6-d46d-7950c0135fa7"
      },
      "execution_count": null,
      "outputs": [
        {
          "output_type": "error",
          "ename": "SyntaxError",
          "evalue": "ignored",
          "traceback": [
            "\u001b[0;36m  File \u001b[0;32m\"<ipython-input-16-fdf48fc63b22>\"\u001b[0;36m, line \u001b[0;32m10\u001b[0m\n\u001b[0;31m    max_len = len(t)\u001b[0m\n\u001b[0m    ^\u001b[0m\n\u001b[0;31mSyntaxError\u001b[0m\u001b[0;31m:\u001b[0m invalid syntax\n"
          ]
        }
      ]
    },
    {
      "cell_type": "markdown",
      "source": [
        "##A. Lucky Division\n",
        "\n",
        "\n",
        "Petya loves lucky numbers. Everybody knows that lucky numbers are positive integers whose decimal representation contains only the lucky digits 4 and 7. For example, numbers 47, 744, 4 are lucky and 5, 17, 467 are not.\n",
        "\n",
        "Petya calls a number almost lucky if it could be evenly divided by some lucky number. Help him find out if the given number n is almost lucky.\n",
        "\n",
        "Input\n",
        "\n",
        "The single line contains an integer n (1 ≤ n ≤ 1000) — the number that needs to be checked.\n",
        "\n",
        "Output\n",
        "\n",
        "In the only line print \"YES\" (without the quotes), if number n is almost lucky. Otherwise, print \"NO\" (without the quotes)."
      ],
      "metadata": {
        "id": "6RLzfNAbPz-q"
      }
    },
    {
      "cell_type": "code",
      "source": [
        "input = int(input())\n"
      ],
      "metadata": {
        "id": "eHucJNi2PzkL"
      },
      "execution_count": null,
      "outputs": []
    },
    {
      "cell_type": "markdown",
      "source": [
        "##A. I Wanna Be the Guy\n",
        "\n",
        "There is a game called \"I Wanna Be the Guy\", consisting of n levels. Little X and his friend Little Y are addicted to the game. Each of them wants to pass the whole game.\n",
        "\n",
        "Little X can pass only p levels of the game. And Little Y can pass only q levels of the game. You are given the indices of levels Little X can pass and the indices of levels Little Y can pass. Will Little X and Little Y pass the whole game, if they cooperate each other?\n",
        "\n",
        "Input\n",
        "\n",
        "The first line contains a single integer n (1 ≤  n ≤ 100).\n",
        "\n",
        "The next line contains an integer p (0 ≤ p ≤ n) at first, then follows p distinct integers a1, a2, ..., ap (1 ≤ ai ≤ n). These integers denote the indices of levels Little X can pass. The next line contains the levels Little Y can pass in the same format. It's assumed that levels are numbered from 1 to n.\n",
        "\n",
        "Output\n",
        "\n",
        "If they can pass all the levels, print \"I become the guy.\". If it's impossible, print \"Oh, my keyboard!\" (without the quotes)."
      ],
      "metadata": {
        "id": "Bx_5t4cKWlLX"
      }
    },
    {
      "cell_type": "code",
      "source": [
        "p = []\n",
        "q = []\n",
        "dstnt = []\n",
        "\n",
        "level = input()\n",
        "level = int(level)\n",
        "\n",
        "\n",
        "p = list(map(int, input().strip().split()))\n",
        "q = list(map(int, input().strip().split()))\n",
        "\n",
        "lenp = len(p)\n",
        "lenq = len(q)\n",
        "\n",
        "\n",
        "print(lenp, lenq)\n",
        "\n",
        "def distinct(arr1, arr2):\n",
        "  # flag = 0\n",
        "  # print(flag)\n",
        "  for i in range(1,lenp-1):\n",
        "    flag = 0\n",
        "    # print(flag)    \n",
        "    for j in range(1,i):\n",
        "      if(p[i] == p[j]):\n",
        "        flag = 1\n",
        "        print(flag)\n",
        "        break\n",
        "    \n",
        "    if flag == 0:\n",
        "      print(flag)\n",
        "      dstnt.append(p[i])\n",
        "\n",
        "  for i in range(1,lenq-1):\n",
        "    flag = 0\n",
        "    \n",
        "    for j in range(0,i):\n",
        "      if(q[i] == dstnt[j]):\n",
        "        flag = 1\n",
        "        break\n",
        "    \n",
        "    if flag == 0:\n",
        "      dstnt.append(q[i])\n",
        "\n",
        "distinct(p,q)\n",
        "print(dstnt)\n",
        "\n",
        "# print(level)\n",
        "# print(p)\n",
        "# print(q)"
      ],
      "metadata": {
        "colab": {
          "base_uri": "https://localhost:8080/"
        },
        "id": "1FMGRSKfWl-I",
        "outputId": "cb010fb0-4c17-436c-93d3-72f8e7eab721"
      },
      "execution_count": null,
      "outputs": [
        {
          "output_type": "stream",
          "name": "stdout",
          "text": [
            "4 \n",
            "3 1 2 3\n",
            "2 2 4\n",
            "4 3\n",
            "0\n",
            "0\n",
            "[1, 2, 2]\n"
          ]
        }
      ]
    },
    {
      "cell_type": "markdown",
      "source": [
        "##A. Required Remainder\n",
        "You are given three integers x,y\n",
        " and n\n",
        ". Your task is to find the maximum integer k\n",
        " such that 0≤k≤n\n",
        " that kmodx=y\n",
        ", where mod\n",
        " is modulo operation. Many programming languages use percent operator % to implement it.\n",
        "\n",
        "In other words, with given x,y\n",
        " and n\n",
        " you need to find the maximum possible integer from 0\n",
        " to n\n",
        " that has the remainder y\n",
        " modulo x\n",
        ".\n",
        "\n",
        "You have to answer t\n",
        " independent test cases. It is guaranteed that such k\n",
        " exists for each test case.\n",
        "\n",
        "Input\n",
        "The first line of the input contains one integer t\n",
        " (1≤t≤5⋅104\n",
        ") — the number of test cases. The next t\n",
        " lines contain test cases.\n",
        "\n",
        "The only line of the test case contains three integers x,y\n",
        " and n\n",
        " (2≤x≤109; 0≤y<x; y≤n≤109\n",
        ").\n",
        "\n",
        "It can be shown that such k\n",
        " always exists under the given constraints.\n",
        "\n",
        "Output\n",
        "For each test case, print the answer — maximum non-negative integer k\n",
        " such that 0≤k≤n\n",
        " and kmodx=y\n",
        ". It is guaranteed that the answer always exists.\n",
        "\n",
        "![image.png](data:image/png;base64,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)"
      ],
      "metadata": {
        "id": "FQnWk2x7YhaV"
      }
    },
    {
      "cell_type": "code",
      "source": [
        "tests = input()\n",
        "tests = int(tests)\n",
        "results = []\n",
        "\n",
        "for i in range(tests):\n",
        "  x, y, n = list(map(int, input().strip().split()))\n",
        "  value = n/x\n",
        "  int(value)\n",
        "  k = x * value + y\n",
        "  if (k%x == y):\n",
        "    break\n",
        "  else:\n",
        "    value = value - 1\n",
        "    value = int(value)\n",
        "    k = x * value + y\n",
        "  \n",
        "  print(value)\n",
        "  print(k)\n",
        "\n",
        "#print(x, y, n)"
      ],
      "metadata": {
        "colab": {
          "base_uri": "https://localhost:8080/"
        },
        "id": "nVeGqf-QYS_g",
        "outputId": "d84c2cef-7085-48bb-8ddc-79ee2f56e63f"
      },
      "execution_count": null,
      "outputs": [
        {
          "output_type": "stream",
          "name": "stdout",
          "text": [
            "1\n",
            "10 5 15\n",
            "0\n",
            "5\n"
          ]
        }
      ]
    },
    {
      "cell_type": "markdown",
      "source": [
        "##A. Do Not Be Distracted!\n",
        "\n",
        "The teacher asked Polycarp to solve tasks in the following way: if Polycarp began to solve some task, then he must solve it to the end, without being distracted by another task. After switching to another task, Polycarp cannot return to the previous task.\n",
        "\n",
        "Polycarp can only solve one task during the day. Every day he wrote down what task he solved. Now the teacher wants to know if Polycarp followed his advice.\n",
        "\n",
        "For example, if Polycarp solved tasks in the following order: \"DDBBCCCBBEZ\", then the teacher will see that on the third day Polycarp began to solve the task 'B', then on the fifth day he got distracted and began to solve the task 'C', on the eighth day Polycarp returned to the task 'B'. Other examples of when the teacher is suspicious: \"BAB\", \"AABBCCDDEEBZZ\" and \"AAAAZAAAAA\".\n",
        "\n",
        "If Polycarp solved the tasks as follows: \"FFGZZZY\", then the teacher cannot have any suspicions. Please note that Polycarp is not obligated to solve all tasks. Other examples of when the teacher doesn't have any suspicious: \"BA\", \"AFFFCC\" and \"YYYYY\".\n",
        "\n",
        "Help Polycarp find out if his teacher might be suspicious.\n",
        "\n",
        "Input\n",
        "The first line contains an integer t\n",
        " (1≤t≤1000\n",
        "). Then t\n",
        " test cases follow.\n",
        "\n",
        "The first line of each test case contains one integer n\n",
        " (1≤n≤50\n",
        ") — the number of days during which Polycarp solved tasks.\n",
        "\n",
        "The second line contains a string of length n\n",
        ", consisting of uppercase Latin letters, which is the order in which Polycarp solved the tasks.\n",
        "\n",
        "Output\n",
        "For each test case output:\n",
        "\n",
        "\"YES\", if the teacher cannot be suspicious;\n",
        "\"NO\", otherwise.\n",
        "You may print every letter in any case you want (so, for example, the strings yEs, yes, Yes and YES are all recognized as positive answer)."
      ],
      "metadata": {
        "id": "Rdnukt1i4oTP"
      }
    },
    {
      "cell_type": "code",
      "source": [
        "t= input()\n",
        "t=int(t)\n",
        "count = 0\n",
        "\n",
        "for i in range(t):\n",
        "  count = 0\n",
        "  a,b,c,d = list(map(int, input().strip().split()))\n",
        "  if a<b :\n",
        "    count= count +1\n",
        "  if a<c:\n",
        "    count+=1\n",
        "  if a<d:\n",
        "    count+=1\n",
        "  print(count)"
      ],
      "metadata": {
        "id": "PDRyrlTL4jcx"
      },
      "execution_count": null,
      "outputs": []
    },
    {
      "cell_type": "markdown",
      "source": [
        "##A. YES or YES?\n",
        "\n",
        "There is a string s\n",
        " of length 3\n",
        ", consisting of uppercase and lowercase English letters. Check if it is equal to \"YES\" (without quotes), where each letter can be in any case. For example, \"yES\", \"Yes\", \"yes\" are all allowable.\n",
        "\n",
        "Input\n",
        "The first line of the input contains an integer t\n",
        " (1≤t≤103\n",
        ") — the number of testcases.\n",
        "\n",
        "The description of each test consists of one line containing one string s\n",
        " consisting of three characters. Each character of s\n",
        " is either an uppercase or lowercase English letter.\n",
        "\n",
        "Output\n",
        "For each test case, output \"YES\" (without quotes) if s\n",
        " satisfies the condition, and \"NO\" (without quotes) otherwise.\n",
        "\n",
        "You can output \"YES\" and \"NO\" in any case (for example, strings \"yES\", \"yes\" and \"Yes\" will be recognized as a positive response)."
      ],
      "metadata": {
        "id": "lueTj-jA68VE"
      }
    },
    {
      "cell_type": "code",
      "source": [
        "test = int(input())\n",
        "for i in range(test):\n",
        "  string = input()\n",
        "  if (string == \"YES\" or string == \"yES\" or string == \"yes\"or string == \"Yes\"or string == \"YeS\" or string == \"YEs\" or string == \"yEs\" or string == \"yES\" or string == \"yeS\"):\n",
        "    print(\"YES\")\n",
        "  else:\n",
        "    print(\"NO\")"
      ],
      "metadata": {
        "colab": {
          "base_uri": "https://localhost:8080/",
          "height": 380
        },
        "id": "MVDteUEI7DOR",
        "outputId": "7cd3aa2e-a6b9-43d4-eb50-5720e002af2b"
      },
      "execution_count": null,
      "outputs": [
        {
          "output_type": "error",
          "ename": "KeyboardInterrupt",
          "evalue": "ignored",
          "traceback": [
            "\u001b[0;31m---------------------------------------------------------------------------\u001b[0m",
            "\u001b[0;31mKeyboardInterrupt\u001b[0m                         Traceback (most recent call last)",
            "\u001b[0;32m<ipython-input-5-47b8b9827bb3>\u001b[0m in \u001b[0;36m<module>\u001b[0;34m\u001b[0m\n\u001b[0;32m----> 1\u001b[0;31m \u001b[0mtest\u001b[0m \u001b[0;34m=\u001b[0m \u001b[0mint\u001b[0m\u001b[0;34m(\u001b[0m\u001b[0minput\u001b[0m\u001b[0;34m(\u001b[0m\u001b[0;34m)\u001b[0m\u001b[0;34m)\u001b[0m\u001b[0;34m\u001b[0m\u001b[0;34m\u001b[0m\u001b[0m\n\u001b[0m\u001b[1;32m      2\u001b[0m \u001b[0;32mfor\u001b[0m \u001b[0mi\u001b[0m \u001b[0;32min\u001b[0m \u001b[0mrange\u001b[0m\u001b[0;34m(\u001b[0m\u001b[0mtest\u001b[0m\u001b[0;34m)\u001b[0m\u001b[0;34m:\u001b[0m\u001b[0;34m\u001b[0m\u001b[0;34m\u001b[0m\u001b[0m\n\u001b[1;32m      3\u001b[0m   \u001b[0mstring\u001b[0m \u001b[0;34m=\u001b[0m \u001b[0minput\u001b[0m\u001b[0;34m(\u001b[0m\u001b[0;34m)\u001b[0m\u001b[0;34m\u001b[0m\u001b[0;34m\u001b[0m\u001b[0m\n\u001b[1;32m      4\u001b[0m   \u001b[0;32mif\u001b[0m \u001b[0;34m(\u001b[0m\u001b[0mstring\u001b[0m \u001b[0;34m==\u001b[0m \u001b[0;34m\"YES\"\u001b[0m \u001b[0;32mor\u001b[0m \u001b[0mstring\u001b[0m \u001b[0;34m==\u001b[0m \u001b[0;34m\"yES\"\u001b[0m \u001b[0;32mor\u001b[0m \u001b[0mstring\u001b[0m \u001b[0;34m==\u001b[0m \u001b[0;34m\"yes\"\u001b[0m\u001b[0;32mor\u001b[0m \u001b[0mstring\u001b[0m \u001b[0;34m==\u001b[0m \u001b[0;34m\"Yes\"\u001b[0m\u001b[0;32mor\u001b[0m \u001b[0mstring\u001b[0m \u001b[0;34m==\u001b[0m \u001b[0;34m\"YeS\"\u001b[0m \u001b[0;32mor\u001b[0m \u001b[0mstring\u001b[0m \u001b[0;34m==\u001b[0m \u001b[0;34m\"YEs\"\u001b[0m \u001b[0;32mor\u001b[0m \u001b[0mstring\u001b[0m \u001b[0;34m==\u001b[0m \u001b[0;34m\"yEs\"\u001b[0m \u001b[0;32mor\u001b[0m \u001b[0mstring\u001b[0m \u001b[0;34m==\u001b[0m \u001b[0;34m\"yES\"\u001b[0m \u001b[0;32mor\u001b[0m \u001b[0mstring\u001b[0m \u001b[0;34m==\u001b[0m \u001b[0;34m\"yeS\"\u001b[0m\u001b[0;34m)\u001b[0m\u001b[0;34m:\u001b[0m\u001b[0;34m\u001b[0m\u001b[0;34m\u001b[0m\u001b[0m\n\u001b[1;32m      5\u001b[0m     \u001b[0mprint\u001b[0m\u001b[0;34m(\u001b[0m\u001b[0;34m\"YES\"\u001b[0m\u001b[0;34m)\u001b[0m\u001b[0;34m\u001b[0m\u001b[0;34m\u001b[0m\u001b[0m\n",
            "\u001b[0;32m/usr/local/lib/python3.8/dist-packages/ipykernel/kernelbase.py\u001b[0m in \u001b[0;36mraw_input\u001b[0;34m(self, prompt)\u001b[0m\n\u001b[1;32m    858\u001b[0m                 \u001b[0;34m\"raw_input was called, but this frontend does not support input requests.\"\u001b[0m\u001b[0;34m\u001b[0m\u001b[0;34m\u001b[0m\u001b[0m\n\u001b[1;32m    859\u001b[0m             )\n\u001b[0;32m--> 860\u001b[0;31m         return self._input_request(str(prompt),\n\u001b[0m\u001b[1;32m    861\u001b[0m             \u001b[0mself\u001b[0m\u001b[0;34m.\u001b[0m\u001b[0m_parent_ident\u001b[0m\u001b[0;34m,\u001b[0m\u001b[0;34m\u001b[0m\u001b[0;34m\u001b[0m\u001b[0m\n\u001b[1;32m    862\u001b[0m             \u001b[0mself\u001b[0m\u001b[0;34m.\u001b[0m\u001b[0m_parent_header\u001b[0m\u001b[0;34m,\u001b[0m\u001b[0;34m\u001b[0m\u001b[0;34m\u001b[0m\u001b[0m\n",
            "\u001b[0;32m/usr/local/lib/python3.8/dist-packages/ipykernel/kernelbase.py\u001b[0m in \u001b[0;36m_input_request\u001b[0;34m(self, prompt, ident, parent, password)\u001b[0m\n\u001b[1;32m    902\u001b[0m             \u001b[0;32mexcept\u001b[0m \u001b[0mKeyboardInterrupt\u001b[0m\u001b[0;34m:\u001b[0m\u001b[0;34m\u001b[0m\u001b[0;34m\u001b[0m\u001b[0m\n\u001b[1;32m    903\u001b[0m                 \u001b[0;31m# re-raise KeyboardInterrupt, to truncate traceback\u001b[0m\u001b[0;34m\u001b[0m\u001b[0;34m\u001b[0m\u001b[0;34m\u001b[0m\u001b[0m\n\u001b[0;32m--> 904\u001b[0;31m                 \u001b[0;32mraise\u001b[0m \u001b[0mKeyboardInterrupt\u001b[0m\u001b[0;34m(\u001b[0m\u001b[0;34m\"Interrupted by user\"\u001b[0m\u001b[0;34m)\u001b[0m \u001b[0;32mfrom\u001b[0m \u001b[0;32mNone\u001b[0m\u001b[0;34m\u001b[0m\u001b[0;34m\u001b[0m\u001b[0m\n\u001b[0m\u001b[1;32m    905\u001b[0m             \u001b[0;32mexcept\u001b[0m \u001b[0mException\u001b[0m \u001b[0;32mas\u001b[0m \u001b[0me\u001b[0m\u001b[0;34m:\u001b[0m\u001b[0;34m\u001b[0m\u001b[0;34m\u001b[0m\u001b[0m\n\u001b[1;32m    906\u001b[0m                 \u001b[0mself\u001b[0m\u001b[0;34m.\u001b[0m\u001b[0mlog\u001b[0m\u001b[0;34m.\u001b[0m\u001b[0mwarning\u001b[0m\u001b[0;34m(\u001b[0m\u001b[0;34m\"Invalid Message:\"\u001b[0m\u001b[0;34m,\u001b[0m \u001b[0mexc_info\u001b[0m\u001b[0;34m=\u001b[0m\u001b[0;32mTrue\u001b[0m\u001b[0;34m)\u001b[0m\u001b[0;34m\u001b[0m\u001b[0;34m\u001b[0m\u001b[0m\n",
            "\u001b[0;31mKeyboardInterrupt\u001b[0m: Interrupted by user"
          ]
        }
      ]
    },
    {
      "cell_type": "markdown",
      "source": [
        "#A. Boring Apartments\n",
        "\n",
        "There is a building consisting of 10 000\n",
        " apartments numbered from 1\n",
        " to 10 000\n",
        ", inclusive.\n",
        "\n",
        "Call an apartment boring, if its number consists of the same digit. Examples of boring apartments are 11,2,777,9999\n",
        " and so on.\n",
        "\n",
        "Our character is a troublemaker, and he calls the intercoms of all boring apartments, till someone answers the call, in the following order:\n",
        "\n",
        "First he calls all apartments consisting of digit 1\n",
        ", in increasing order (1,11,111,1111\n",
        ").\n",
        "Next he calls all apartments consisting of digit 2\n",
        ", in increasing order (2,22,222,2222\n",
        ")\n",
        "And so on.\n",
        "The resident of the boring apartment x\n",
        " answers the call, and our character stops calling anyone further.\n",
        "\n",
        "Our character wants to know how many digits he pressed in total and your task is to help him to count the total number of keypresses.\n",
        "\n",
        "For example, if the resident of boring apartment 22\n",
        " answered, then our character called apartments with numbers 1,11,111,1111,2,22\n",
        " and the total number of digits he pressed is 1+2+3+4+1+2=13\n",
        ".\n",
        "\n",
        "You have to answer t\n",
        " independent test cases.\n",
        "\n",
        "Input\n",
        "The first line of the input contains one integer t\n",
        " (1≤t≤36\n",
        ") — the number of test cases.\n",
        "\n",
        "The only line of the test case contains one integer x\n",
        " (1≤x≤9999\n",
        ") — the apartment number of the resident who answered the call. It is guaranteed that x\n",
        " consists of the same digit.\n",
        "\n",
        "Output\n",
        "For each test case, print the answer: how many digits our character pressed in total."
      ],
      "metadata": {
        "id": "uSh9-R2nkOcW"
      }
    },
    {
      "cell_type": "code",
      "source": [
        "test = int(input())    #test cases\n",
        "\n",
        "for i in range(test):\n",
        "  count = 0\n",
        "  rec = int(input())      #number when call is received\n",
        "  for i in range(1, 10):    # iterates 1 to 9: concatenates 1 - 9999\n",
        "    count += 1\n",
        "    num = i\n",
        "    str_num = str(num)\n",
        "    for j in range(1, 4):\n",
        "      #count += 1\n",
        "      #print(num)\n",
        "      if (num == rec):\n",
        "        break\n",
        "      else:  \n",
        "        str_num =  str_num + str(i)\n",
        "        num = int(str_num)\n",
        "        count += j+1\n",
        "        #print(num)\n",
        "    #print(num)\n",
        "    if(num == rec):\n",
        "      break\n",
        "  print(count)\n",
        "  \n"
      ],
      "metadata": {
        "colab": {
          "base_uri": "https://localhost:8080/"
        },
        "id": "KJYB8OEIkTCc",
        "outputId": "ea96fc2b-104f-4125-a795-482feaf542e4"
      },
      "execution_count": null,
      "outputs": [
        {
          "output_type": "stream",
          "name": "stdout",
          "text": [
            "4\n",
            "22\n",
            "13\n",
            "9999\n",
            "90\n",
            "777\n",
            "66\n",
            "1\n",
            "1\n"
          ]
        }
      ]
    },
    {
      "cell_type": "markdown",
      "source": [
        "#A. Sum\n",
        "\n",
        "You are given three integers a\n",
        ", b\n",
        ", and c\n",
        ". Determine if one of them is the sum of the other two.\n",
        "\n",
        "Input\n",
        "The first line contains a single integer t\n",
        " (1≤t≤9261\n",
        ") — the number of test cases.\n",
        "\n",
        "The description of each test case consists of three integers a\n",
        ", b\n",
        ", c\n",
        " (0≤a,b,c≤20\n",
        ").\n",
        "\n",
        "Output\n",
        "For each test case, output \"YES\" if one of the numbers is the sum of the other two, and \"NO\" otherwise.\n",
        "\n",
        "You can output the answer in any case (for example, the strings \"yEs\", \"yes\", \"Yes\" and \"YES\" will be recognized as a positive answer)."
      ],
      "metadata": {
        "id": "rUP1X9eI2Dcc"
      }
    },
    {
      "cell_type": "code",
      "source": [
        "test = int(input())\n",
        "for i in range(test):\n",
        "  a, b, c = list(map(int, input().strip().split()))\n",
        "  if (a == b + c or b == a+c or c == a+b):\n",
        "    print(\"YES\")\n",
        "  else:\n",
        "    print(\"NO\")"
      ],
      "metadata": {
        "colab": {
          "base_uri": "https://localhost:8080/"
        },
        "id": "4fGFSjoB2eBf",
        "outputId": "e12aabc4-c640-494d-e237-1575226188cd"
      },
      "execution_count": null,
      "outputs": [
        {
          "output_type": "stream",
          "name": "stdout",
          "text": [
            "7\n",
            "1 4 3\n",
            "YES\n",
            "2 5 8\n",
            "NO\n",
            "9 11 2\n",
            "YES\n",
            "0 0 0\n",
            "YES\n",
            "20 20 20\n",
            "NO\n",
            "4 12 3\n",
            "NO\n",
            "15 7 8\n",
            "YES\n"
          ]
        }
      ]
    },
    {
      "cell_type": "markdown",
      "source": [
        "##A. Cards for Friends\n",
        "\n",
        "\n",
        "For the New Year, Polycarp decided to send postcards to all his n\n",
        " friends. He wants to make postcards with his own hands. For this purpose, he has a sheet of paper of size w×h\n",
        ", which can be cut into pieces.\n",
        "\n",
        "Polycarp can cut any sheet of paper w×h\n",
        " that he has in only two cases:\n",
        "\n",
        "If w\n",
        " is even, then he can cut the sheet in half and get two sheets of size w2×h\n",
        ";\n",
        "If h\n",
        " is even, then he can cut the sheet in half and get two sheets of size w×h2\n",
        ";\n",
        "If w\n",
        " and h\n",
        " are even at the same time, then Polycarp can cut the sheet according to any of the rules above.\n",
        "\n",
        "After cutting a sheet of paper, the total number of sheets of paper is increased by 1\n",
        ".\n",
        "\n",
        "Help Polycarp to find out if he can cut his sheet of size w×h\n",
        " at into n\n",
        " or more pieces, using only the rules described above.\n",
        "\n",
        "Input\n",
        "The first line contains one integer t\n",
        " (1≤t≤104\n",
        ") — the number of test cases. Then t\n",
        " test cases follow.\n",
        "\n",
        "Each test case consists of one line containing three integers w\n",
        ", h\n",
        ", n\n",
        " (1≤w,h≤104,1≤n≤109\n",
        ") — the width and height of the sheet Polycarp has and the number of friends he needs to send a postcard to.\n",
        "\n",
        "Output\n",
        "For each test case, output on a separate line:\n",
        "\n",
        "\"YES\", if it is possible to cut a sheet of size w×h\n",
        " into at least n\n",
        " pieces;\n",
        "\"NO\" otherwise.\n",
        "You can output \"YES\" and \"NO\" in any case (for example, the strings yEs, yes, Yes and YES will be recognized as positive)."
      ],
      "metadata": {
        "id": "W6Tc05H8NRJN"
      }
    },
    {
      "cell_type": "code",
      "source": [
        "## UNSOLVED\n",
        "\n",
        "\n",
        "test = int(input())\n",
        "\n",
        "\n",
        "for i in range(test):\n",
        "  w, h, n = list(map(int, input().strip().split()))\n",
        "  #print(w, h, n)\n",
        "  cards = 1\n",
        "  while((w and h)>=1):\n",
        "  # w even\n",
        "    if (w%2 == 0):\n",
        "      w = w/2\n",
        "      cards += 1\n",
        "      #if (w == 1):\n",
        "        #cards += 1\n",
        "    elif(h%2 == 0):\n",
        "      h = h/2\n",
        "      cards += 1\n",
        "      #if (h == 1):\n",
        "        #cards += 1\n",
        "    else:\n",
        "      #print(cards)\n",
        "      break\n",
        "    \n",
        "  if (cards>=n):\n",
        "    print(\"YES\")\n",
        "  else:\n",
        "    print(\"NO\")"
      ],
      "metadata": {
        "colab": {
          "base_uri": "https://localhost:8080/"
        },
        "id": "HYG8CsTVNaAU",
        "outputId": "59d5eb8a-3bca-40b4-db20-1b0ce5e463d6"
      },
      "execution_count": null,
      "outputs": [
        {
          "output_type": "stream",
          "name": "stdout",
          "text": [
            "5 \n",
            "2 2 1\n",
            "YES\n",
            "3 3 2\n",
            "NO\n",
            "10 5 2\n",
            "YES\n",
            "11 13 1\n",
            "YES\n",
            "1 4 4\n",
            "NO\n"
          ]
        }
      ]
    },
    {
      "cell_type": "markdown",
      "source": [
        "#A. Favorite Sequence\n",
        "\n",
        "Polycarp has a favorite sequence a[1…n]\n",
        " consisting of n\n",
        " integers. He wrote it out on the whiteboard as follows:\n",
        "\n",
        "he wrote the number a1\n",
        " to the left side (at the beginning of the whiteboard);\n",
        "he wrote the number a2\n",
        " to the right side (at the end of the whiteboard);\n",
        "then as far to the left as possible (but to the right from a1\n",
        "), he wrote the number a3\n",
        ";\n",
        "then as far to the right as possible (but to the left from a2\n",
        "), he wrote the number a4\n",
        ";\n",
        "Polycarp continued to act as well, until he wrote out the entire sequence on the whiteboard.\n",
        "The beginning of the result looks like this (of course, if n≥4\n",
        ").\n",
        "For example, if n=7\n",
        " and a=[3,1,4,1,5,9,2]\n",
        ", then Polycarp will write a sequence on the whiteboard [3,4,5,2,9,1,1]\n",
        ".\n",
        "\n",
        "You saw the sequence written on the whiteboard and now you want to restore Polycarp's favorite sequence.\n",
        "\n",
        "Input\n",
        "The first line contains a single positive integer t\n",
        " (1≤t≤300\n",
        ") — the number of test cases in the test. Then t\n",
        " test cases follow.\n",
        "\n",
        "The first line of each test case contains an integer n\n",
        " (1≤n≤300\n",
        ") — the length of the sequence written on the whiteboard.\n",
        "\n",
        "The next line contains n\n",
        " integers b1,b2,…,bn\n",
        " (1≤bi≤109\n",
        ") — the sequence written on the whiteboard.\n",
        "\n",
        "Output\n",
        "Output t\n",
        " answers to the test cases. Each answer — is a sequence a\n",
        " that Polycarp wrote out on the whiteboard.\n",
        "\n",
        " Note\n",
        "In the first test case, the sequence a\n",
        " matches the sequence from the statement. The whiteboard states after each step look like this:\n",
        "\n",
        "[3]⇒[3,1]⇒[3,4,1]⇒[3,4,1,1]⇒[3,4,5,1,1]⇒[3,4,5,9,1,1]⇒[3,4,5,2,9,1,1]\n",
        "."
      ],
      "metadata": {
        "id": "n84xshHysyYj"
      }
    },
    {
      "cell_type": "code",
      "source": [
        "test = int(input())\n",
        "for i in range(test):\n",
        "  n = int(input()) #numbers in a sequence\n",
        "  a = list(map(int, input().strip().split())) #takes input of the numbers in a list\n",
        "  fav_seq = []\n",
        "  if n%2==0:\n",
        "    mid = ((n)//2)-1\n",
        "  else:\n",
        "    mid = ((n+1)//2)-1\n",
        "  for i,j in range(mid, a[::-1]):\n",
        "    fav_seq.append(a[i])\n",
        "    fav_seq.append(a[j])\n",
        "  print(mid)\n",
        "  print(fav_seq)\n",
        "\n",
        "\n",
        "#print(a)\n",
        "#print(type(a))\n",
        "# a[::-1]\n",
        "# [9, 8, 7, 6, 5, 4, 3, 2, 1, 0]\n"
      ],
      "metadata": {
        "colab": {
          "base_uri": "https://localhost:8080/",
          "height": 287
        },
        "id": "Xycn50OWtZrW",
        "outputId": "02a25818-7ce4-4ec1-808a-0061a3eb86a2"
      },
      "execution_count": null,
      "outputs": [
        {
          "name": "stdout",
          "output_type": "stream",
          "text": [
            "1\n",
            "7\n",
            "3 4 5 2 9 1 1\n"
          ]
        },
        {
          "output_type": "error",
          "ename": "TypeError",
          "evalue": "ignored",
          "traceback": [
            "\u001b[0;31m---------------------------------------------------------------------------\u001b[0m",
            "\u001b[0;31mTypeError\u001b[0m                                 Traceback (most recent call last)",
            "\u001b[0;32m<ipython-input-3-0f5195cafbbd>\u001b[0m in \u001b[0;36m<module>\u001b[0;34m\u001b[0m\n\u001b[1;32m      8\u001b[0m   \u001b[0;32melse\u001b[0m\u001b[0;34m:\u001b[0m\u001b[0;34m\u001b[0m\u001b[0;34m\u001b[0m\u001b[0m\n\u001b[1;32m      9\u001b[0m     \u001b[0mmid\u001b[0m \u001b[0;34m=\u001b[0m \u001b[0;34m(\u001b[0m\u001b[0;34m(\u001b[0m\u001b[0mn\u001b[0m\u001b[0;34m+\u001b[0m\u001b[0;36m1\u001b[0m\u001b[0;34m)\u001b[0m\u001b[0;34m//\u001b[0m\u001b[0;36m2\u001b[0m\u001b[0;34m)\u001b[0m\u001b[0;34m-\u001b[0m\u001b[0;36m1\u001b[0m\u001b[0;34m\u001b[0m\u001b[0;34m\u001b[0m\u001b[0m\n\u001b[0;32m---> 10\u001b[0;31m   \u001b[0;32mfor\u001b[0m \u001b[0mi\u001b[0m\u001b[0;34m,\u001b[0m\u001b[0mj\u001b[0m \u001b[0;32min\u001b[0m \u001b[0mrange\u001b[0m\u001b[0;34m(\u001b[0m\u001b[0mmid\u001b[0m\u001b[0;34m,\u001b[0m \u001b[0ma\u001b[0m\u001b[0;34m[\u001b[0m\u001b[0;34m:\u001b[0m\u001b[0;34m:\u001b[0m\u001b[0;34m-\u001b[0m\u001b[0;36m1\u001b[0m\u001b[0;34m]\u001b[0m\u001b[0;34m)\u001b[0m\u001b[0;34m:\u001b[0m\u001b[0;34m\u001b[0m\u001b[0;34m\u001b[0m\u001b[0m\n\u001b[0m\u001b[1;32m     11\u001b[0m     \u001b[0mfav_seq\u001b[0m\u001b[0;34m.\u001b[0m\u001b[0mappend\u001b[0m\u001b[0;34m(\u001b[0m\u001b[0ma\u001b[0m\u001b[0;34m[\u001b[0m\u001b[0mi\u001b[0m\u001b[0;34m]\u001b[0m\u001b[0;34m)\u001b[0m\u001b[0;34m\u001b[0m\u001b[0;34m\u001b[0m\u001b[0m\n\u001b[1;32m     12\u001b[0m     \u001b[0mfav_seq\u001b[0m\u001b[0;34m.\u001b[0m\u001b[0mappend\u001b[0m\u001b[0;34m(\u001b[0m\u001b[0ma\u001b[0m\u001b[0;34m[\u001b[0m\u001b[0mj\u001b[0m\u001b[0;34m]\u001b[0m\u001b[0;34m)\u001b[0m\u001b[0;34m\u001b[0m\u001b[0;34m\u001b[0m\u001b[0m\n",
            "\u001b[0;31mTypeError\u001b[0m: 'list' object cannot be interpreted as an integer"
          ]
        }
      ]
    },
    {
      "cell_type": "markdown",
      "source": [
        "#A. Free Ice Cream\n",
        "![image.png](data:image/png;base64,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)"
      ],
      "metadata": {
        "id": "cTu3rNr2z7H6"
      }
    },
    {
      "cell_type": "code",
      "source": [
        "dist_k = 0\n",
        "rem = 0\n",
        "\n",
        "test, x  = list(map(int, input().strip().split()))\n",
        "#print (n,x)\n",
        "\n",
        "\n",
        "for i in range(test):\n",
        "  sign, num = list(map(str, input().strip().split()))\n",
        "  #print(sign,num)\n",
        "  num = int(num)\n",
        "  if (sign == '+'):\n",
        "    x = x + num\n",
        "  if (sign == '-') :\n",
        "    if (x >= num):\n",
        "      x = x - num\n",
        "    else:\n",
        "      dist_k += 1\n",
        "print (x,dist_k)\n"
      ],
      "metadata": {
        "colab": {
          "base_uri": "https://localhost:8080/"
        },
        "id": "zGOKuWgFzS-z",
        "outputId": "ec43cef1-cd21-4b05-f68c-20a1fbae5d12"
      },
      "execution_count": 6,
      "outputs": [
        {
          "output_type": "stream",
          "name": "stdout",
          "text": [
            "5 7\n",
            "+ 5\n",
            "- 10\n",
            "- 20\n",
            "+ 40 \n",
            "- 20\n",
            "22 1\n"
          ]
        }
      ]
    }
  ]
}