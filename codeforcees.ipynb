{
  "nbformat": 4,
  "nbformat_minor": 0,
  "metadata": {
    "colab": {
      "provenance": [],
      "authorship_tag": "ABX9TyNZZbO0sfEEs89Q0U+d5l7d",
      "include_colab_link": true
    },
    "kernelspec": {
      "name": "python3",
      "display_name": "Python 3"
    },
    "language_info": {
      "name": "python"
    }
  },
  "cells": [
    {
      "cell_type": "markdown",
      "metadata": {
        "id": "view-in-github",
        "colab_type": "text"
      },
      "source": [
        "<a href=\"https://colab.research.google.com/github/MadTMan/CodeForces-Solutions/blob/main/codeforcees.ipynb\" target=\"_parent\"><img src=\"https://colab.research.google.com/assets/colab-badge.svg\" alt=\"Open In Colab\"/></a>"
      ]
    },
    {
      "cell_type": "markdown",
      "source": [
        "A.Elephant\n",
        "\n",
        "\n",
        "An elephant decided to visit his friend. It turned out that the elephant's house is located at point 0 and his friend's house is located at point x(x > 0) of the coordinate line. In one step the elephant can move 1, 2, 3, 4 or 5 positions forward. Determine, what is the minimum number of steps he need to make in order to get to his friend's house.\n",
        "\n",
        "Input\n",
        "The first line of the input contains an integer x (1 ≤ x ≤ 1 000 000) — The coordinate of the friend's house.\n",
        "\n",
        "Output\n",
        "Print the minimum number of steps that elephant needs to make to get from point 0 to point x.\n",
        "\n",
        "Examples\n",
        "Input\n",
        "5\n",
        "output\n",
        "1\n",
        "\n",
        "input\n",
        "12\n",
        "output\n",
        "3"
      ],
      "metadata": {
        "id": "H5Z5-s-ufnlQ"
      }
    },
    {
      "cell_type": "code",
      "execution_count": null,
      "metadata": {
        "colab": {
          "base_uri": "https://localhost:8080/"
        },
        "id": "FH6XpBCifiM-",
        "outputId": "71fc2dc0-f850-4672-b6d6-e3dbb953e0dd"
      },
      "outputs": [
        {
          "output_type": "stream",
          "name": "stdout",
          "text": [
            "5\n",
            "1\n"
          ]
        }
      ],
      "source": [
        "distance = int(input())\n",
        "\n",
        "quo = int(distance/5)\n",
        "rem = int(distance%5)\n",
        "\n",
        "if rem == 0:\n",
        "  print(quo)\n",
        "else:\n",
        "  print(quo+1)\n",
        "\n",
        "\n"
      ]
    },
    {
      "cell_type": "markdown",
      "source": [
        "A. Yet Another Two Integers Problem\n",
        "\n",
        "\n",
        "You are given two integers a and b.\n",
        "\n",
        "In one move, you can choose some integer k from 1 to 10 and add it to a or subtract it from a. In other words, you choose an integer k∈[1;10] and perform a:=a+k or a:=a−k. You may use different values of k in different moves.\n",
        "\n",
        "Your task is to find the minimum number of moves required to obtain b from a.\n",
        "\n",
        "You have to answer t independent test cases.\n",
        "\n",
        "Input\n",
        "The first line of the input contains one integer t (1≤t≤2⋅104) — the number of test cases. Then t test cases follow.\n",
        "\n",
        "The only line of the test case contains two integers a and b (1≤a,b≤109).\n",
        "\n",
        "Output\n",
        "For each test case, print the answer: the minimum number of moves required to obtain b from a."
      ],
      "metadata": {
        "id": "silMI2hKkwDx"
      }
    },
    {
      "cell_type": "code",
      "source": [
        "test = int(input())\n",
        "\n",
        "\n",
        "for i in range(test):\n",
        "  \n",
        "  a,b = input().split()\n",
        "  a = int(a)\n",
        "  b = int(b)\n",
        "  diff = a - b\n",
        "\n",
        "\n",
        "  if a>b:\n",
        "    quo = int(diff/10)\n",
        "    #100500 9000print(diff)\n",
        "    if diff%10 == 0:\n",
        "      print(quo)\n",
        "    else:\n",
        "      print(quo+1)\n",
        "  else:\n",
        "    quo = int((diff*-1)/10)\n",
        "    if diff%10 == 0:\n",
        "     print(quo)\n",
        "    else:\n",
        "      print(quo+1)\n",
        "  "
      ],
      "metadata": {
        "colab": {
          "base_uri": "https://localhost:8080/"
        },
        "id": "pr5vsd66kyBv",
        "outputId": "17438c43-7a99-4349-da55-9350ab50babc"
      },
      "execution_count": null,
      "outputs": [
        {
          "output_type": "stream",
          "name": "stdout",
          "text": [
            "6\n",
            "5 5\n",
            "13 42\n",
            "18 4\n",
            "1337 420\n",
            "123456789 1000000000\n",
            "100500 9000\n",
            "9150\n",
            "9150\n",
            "9150\n",
            "9150\n",
            "9150\n",
            "9150\n"
          ]
        }
      ]
    },
    {
      "cell_type": "markdown",
      "source": [
        "A. Triangular numbers\n",
        "time limit per test2 seconds\n",
        "memory limit per test256 megabytes\n",
        "inputstandard input\n",
        "outputstandard output\n",
        "A triangular number is the number of dots in an equilateral triangle uniformly filled with dots. For example, three dots can be arranged in a triangle; thus three is a triangular number. The n-th triangular number is the number of dots in a triangle with n dots on a side. . You can learn more about these numbers from Wikipedia (http://en.wikipedia.org/wiki/Triangular_number).\n",
        "\n",
        "Your task is to find out if a given integer is a triangular number.\n",
        "\n",
        "Input\n",
        "The first line contains the single number n (1 ≤ n ≤ 500) — the given integer.\n",
        "\n",
        "Output\n",
        "If the given integer is a triangular number output YES, otherwise output NO."
      ],
      "metadata": {
        "id": "ZsgfWQ_P7BkX"
      }
    },
    {
      "cell_type": "code",
      "source": [
        "input_num = input()\n",
        "input_num = int(input_num)\n",
        "#form = (num(num+1))/2\n",
        "t_num =[]\n",
        "count = 1\n",
        "\n",
        "for output in range(500):\n",
        "  #print(count)\n",
        "  t_num.append(int((count*(count+1))/2))\n",
        "  count += 1\n",
        "\n",
        "#print(t_num)\n",
        "for check in t_num:\n",
        "  if input_num in t_num:\n",
        "    print(\"YES\")\n",
        "    break\n",
        "  else:\n",
        "    print(\"NO\")\n",
        "    break"
      ],
      "metadata": {
        "colab": {
          "base_uri": "https://localhost:8080/"
        },
        "id": "jHP54FKr7C_L",
        "outputId": "6e9f0362-8042-4ac1-ba4e-8f65192b9d4f"
      },
      "execution_count": null,
      "outputs": [
        {
          "output_type": "stream",
          "name": "stdout",
          "text": [
            "1\n",
            "YES\n"
          ]
        }
      ]
    },
    {
      "cell_type": "code",
      "source": [],
      "metadata": {
        "id": "DHgZmKt8FpNc"
      },
      "execution_count": null,
      "outputs": []
    }
  ]
}